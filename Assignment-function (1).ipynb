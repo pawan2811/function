{
 "cells": [
  {
   "cell_type": "code",
   "execution_count": 1,
   "id": "f59da39d-d376-49ff-869f-627e8005e1dc",
   "metadata": {},
   "outputs": [],
   "source": [
    "#1 .What is the difference between a function and a method in Python?"
   ]
  },
  {
   "cell_type": "markdown",
   "id": "ebdbe0f7-d017-4f23-8e18-22b361fb2d8f",
   "metadata": {},
   "source": [
    "Functions can be standalone, while methods are always associated with a class and typically require an instance of the class to be called."
   ]
  },
  {
   "cell_type": "code",
   "execution_count": 2,
   "id": "32adee11-7369-49ce-ac5d-2d56f4594589",
   "metadata": {},
   "outputs": [],
   "source": [
    "#eg function\n",
    "def fun(a,b):\n",
    "    return a+b"
   ]
  },
  {
   "cell_type": "code",
   "execution_count": 3,
   "id": "1f673d55-06d1-4a2d-8f50-c223fabcd98e",
   "metadata": {},
   "outputs": [
    {
     "data": {
      "text/plain": [
       "3"
      ]
     },
     "execution_count": 3,
     "metadata": {},
     "output_type": "execute_result"
    }
   ],
   "source": [
    "fun(1,2)"
   ]
  },
  {
   "cell_type": "code",
   "execution_count": 4,
   "id": "db47ae6e-f0a6-474b-abb5-1dd3ec742213",
   "metadata": {},
   "outputs": [],
   "source": [
    "#2. Explain the concept of function arguments and parameters in Python ?\n",
    "    "
   ]
  },
  {
   "cell_type": "markdown",
   "id": "f1b2ccb3-1b32-4d03-b068-3d7368c6707c",
   "metadata": {},
   "source": [
    "Parameters: are the variables listed inside the parentheses in the function definition. They act as placeholders for the values that will be passed to the function when it is called.\n",
    "Arguments: are the actual values that are passed to the function when it is called. They correspond to the parameters defined in the function."
   ]
  },
  {
   "cell_type": "code",
   "execution_count": 2,
   "id": "ee331cdc-8259-45da-ab29-21973e0c2e15",
   "metadata": {},
   "outputs": [],
   "source": [
    "#eg \n",
    "def name(n): # n is the parameters\n",
    "    print(f\"n is the parameter and name is {n}\")\n"
   ]
  },
  {
   "cell_type": "code",
   "execution_count": 3,
   "id": "fdd0220e-5c8f-406a-b5a1-6b6fd06d1b59",
   "metadata": {},
   "outputs": [
    {
     "name": "stdout",
     "output_type": "stream",
     "text": [
      "n is the parameter and name is pawanl\n"
     ]
    }
   ],
   "source": [
    "name(\"pawanl\") # pawan is the argumnet"
   ]
  },
  {
   "cell_type": "code",
   "execution_count": 7,
   "id": "6d68402c-59a6-44a6-bce3-9d764f623660",
   "metadata": {},
   "outputs": [],
   "source": [
    "#3. What are the different ways to define and call a function in Python?"
   ]
  },
  {
   "cell_type": "raw",
   "id": "6f6726a8-464b-49f3-895f-9304efebc8c7",
   "metadata": {},
   "source": [
    "Defining Functions: You can define functions using def, lambda, and even inside other functions (nested). Functions can have default parameters and accept variable-length arguments.\n",
    "calling Function: Functions can be called using positional, keyword, or unpacked arguments. Lambda functions can be defined and called inline.\n"
   ]
  },
  {
   "cell_type": "code",
   "execution_count": 9,
   "id": "91860a2d-f1c9-46cf-a749-21cf4dd851c5",
   "metadata": {},
   "outputs": [],
   "source": [
    "#eg define function \n",
    "def example(a=0,b=0): # define function using def\n",
    "    return a*b\n",
    "    "
   ]
  },
  {
   "cell_type": "code",
   "execution_count": 17,
   "id": "3d132121-2410-43e6-97f1-ee7fb163dacf",
   "metadata": {},
   "outputs": [
    {
     "data": {
      "text/plain": [
       "8"
      ]
     },
     "execution_count": 17,
     "metadata": {},
     "output_type": "execute_result"
    }
   ],
   "source": [
    "example(a=2,b=4) #calling function and arguments give as input"
   ]
  },
  {
   "cell_type": "code",
   "execution_count": 12,
   "id": "9bab395b-ab13-4967-824a-bd275965f225",
   "metadata": {},
   "outputs": [],
   "source": [
    "#lambda"
   ]
  },
  {
   "cell_type": "code",
   "execution_count": 15,
   "id": "c7c952f8-ace0-4864-bb2b-38dea73cad77",
   "metadata": {},
   "outputs": [],
   "source": [
    "e = lambda a,b: a*b"
   ]
  },
  {
   "cell_type": "code",
   "execution_count": 18,
   "id": "af451cde-e398-49a9-96cd-fc20af954230",
   "metadata": {},
   "outputs": [
    {
     "data": {
      "text/plain": [
       "8"
      ]
     },
     "execution_count": 18,
     "metadata": {},
     "output_type": "execute_result"
    }
   ],
   "source": [
    "e(2,4) # calling function and arguments give as input"
   ]
  },
  {
   "cell_type": "code",
   "execution_count": 19,
   "id": "28e8a840-fef0-4772-a888-bc244e04ea4b",
   "metadata": {},
   "outputs": [],
   "source": [
    "#4. What is the purpose of the `return` statement in a Python function?"
   ]
  },
  {
   "cell_type": "raw",
   "id": "5991ab4a-9448-4040-b47e-0e3cc029f067",
   "metadata": {},
   "source": [
    "The return statement is essential for creating functions that can produce results and interact with other parts of the program, enabling modular and reusable code."
   ]
  },
  {
   "cell_type": "code",
   "execution_count": 22,
   "id": "f6b6ee25-bf5b-4562-84ed-72530ad4cc18",
   "metadata": {},
   "outputs": [],
   "source": [
    "#eg \n",
    "def rtrn(a,b):\n",
    "    return a/b # return the value after calculation"
   ]
  },
  {
   "cell_type": "code",
   "execution_count": 23,
   "id": "bcd904e9-db9e-4703-a8b8-7d69eb7f9ba5",
   "metadata": {},
   "outputs": [
    {
     "data": {
      "text/plain": [
       "0.6666666666666666"
      ]
     },
     "execution_count": 23,
     "metadata": {},
     "output_type": "execute_result"
    }
   ],
   "source": [
    "rtrn(2,3)"
   ]
  },
  {
   "cell_type": "code",
   "execution_count": 24,
   "id": "754c9b1a-8e43-4e30-b930-31081fbe2c88",
   "metadata": {},
   "outputs": [],
   "source": [
    "#5 .What are iterators in Python and how do they differ from iterables?"
   ]
  },
  {
   "cell_type": "raw",
   "id": "9c9134e2-30ea-4acb-b14a-39909a5485a7",
   "metadata": {},
   "source": [
    "An iterable is any Python object capable of returning its elements one at a time, allowing it to be iterated over in a loop.lists, tuples, strings, dictionaries, and sets\n",
    "iterator is object repersenting stream of data >> return the data one\n"
   ]
  },
  {
   "cell_type": "code",
   "execution_count": 26,
   "id": "e2b82c46-a2a3-4ac1-ac47-a8094811db99",
   "metadata": {},
   "outputs": [
    {
     "name": "stdout",
     "output_type": "stream",
     "text": [
      "1\n",
      "2\n",
      "3\n",
      "4\n"
     ]
    }
   ],
   "source": [
    "#eg of iterable\n",
    "a = [1,2,3,4]\n",
    "for i in a:\n",
    "    print(i)"
   ]
  },
  {
   "cell_type": "code",
   "execution_count": 27,
   "id": "65b2d06d-c163-4088-be8d-67278cf751bf",
   "metadata": {},
   "outputs": [],
   "source": [
    "# iterator\n",
    "a = \"pwskills\"\n",
    "b = iter(a)"
   ]
  },
  {
   "cell_type": "code",
   "execution_count": 28,
   "id": "635aea88-7759-4a69-a504-eff8ff35237d",
   "metadata": {},
   "outputs": [
    {
     "data": {
      "text/plain": [
       "'p'"
      ]
     },
     "execution_count": 28,
     "metadata": {},
     "output_type": "execute_result"
    }
   ],
   "source": [
    "next(b)"
   ]
  },
  {
   "cell_type": "code",
   "execution_count": 29,
   "id": "db946425-4d33-4ca4-bbaf-5274ea8c0638",
   "metadata": {},
   "outputs": [
    {
     "data": {
      "text/plain": [
       "'w'"
      ]
     },
     "execution_count": 29,
     "metadata": {},
     "output_type": "execute_result"
    }
   ],
   "source": [
    "next(b)"
   ]
  },
  {
   "cell_type": "code",
   "execution_count": 32,
   "id": "e05dec27-3dbf-4e01-a403-28b83f17e6bf",
   "metadata": {},
   "outputs": [
    {
     "data": {
      "text/plain": [
       "'s'"
      ]
     },
     "execution_count": 32,
     "metadata": {},
     "output_type": "execute_result"
    }
   ],
   "source": [
    "next(b)"
   ]
  },
  {
   "cell_type": "code",
   "execution_count": 33,
   "id": "b6225799-1c61-4d17-89b2-66b4c1e92c1d",
   "metadata": {},
   "outputs": [
    {
     "data": {
      "text/plain": [
       "'k'"
      ]
     },
     "execution_count": 33,
     "metadata": {},
     "output_type": "execute_result"
    }
   ],
   "source": [
    "next(b)"
   ]
  },
  {
   "cell_type": "code",
   "execution_count": 34,
   "id": "f7749157-3b2f-461a-915d-8d0dabf01402",
   "metadata": {},
   "outputs": [
    {
     "data": {
      "text/plain": [
       "'i'"
      ]
     },
     "execution_count": 34,
     "metadata": {},
     "output_type": "execute_result"
    }
   ],
   "source": [
    "next(b)"
   ]
  },
  {
   "cell_type": "code",
   "execution_count": 36,
   "id": "546f1401-18e0-48ef-aaf7-01182ff1952f",
   "metadata": {},
   "outputs": [
    {
     "data": {
      "text/plain": [
       "'l'"
      ]
     },
     "execution_count": 36,
     "metadata": {},
     "output_type": "execute_result"
    }
   ],
   "source": [
    "next(b)"
   ]
  },
  {
   "cell_type": "code",
   "execution_count": 37,
   "id": "607ce986-351c-47e2-bab9-ffffb4e49e0d",
   "metadata": {},
   "outputs": [
    {
     "data": {
      "text/plain": [
       "'l'"
      ]
     },
     "execution_count": 37,
     "metadata": {},
     "output_type": "execute_result"
    }
   ],
   "source": [
    "next(b)"
   ]
  },
  {
   "cell_type": "code",
   "execution_count": 38,
   "id": "bd1e303c-7ff0-4168-b5f2-47bfadcc4232",
   "metadata": {},
   "outputs": [
    {
     "data": {
      "text/plain": [
       "'s'"
      ]
     },
     "execution_count": 38,
     "metadata": {},
     "output_type": "execute_result"
    }
   ],
   "source": [
    "next(b)"
   ]
  },
  {
   "cell_type": "code",
   "execution_count": 39,
   "id": "3e01d0a5-3a90-4002-9a86-574980f2e1f2",
   "metadata": {},
   "outputs": [],
   "source": [
    "#6.Explain the concept of generators in Python and how they are defined"
   ]
  },
  {
   "cell_type": "raw",
   "id": "8face400-56bf-4bb6-91bf-2811e0b66213",
   "metadata": {},
   "source": [
    "we can generate result one by one instead of one go yield >> general function uses return statement but generator function uses yield statement"
   ]
  },
  {
   "cell_type": "code",
   "execution_count": 54,
   "id": "e7232cfc-97dc-4379-9d7c-d63ef0d8912e",
   "metadata": {},
   "outputs": [],
   "source": [
    "def example(a):\n",
    "    for i in a:\n",
    "        yield i\n",
    "\n",
    "b = [1,2,3,4]\n",
    "x = example(b)"
   ]
  },
  {
   "cell_type": "code",
   "execution_count": 55,
   "id": "3e96bf4e-18f7-40ad-91be-9445b5b9aeb5",
   "metadata": {},
   "outputs": [
    {
     "data": {
      "text/plain": [
       "1"
      ]
     },
     "execution_count": 55,
     "metadata": {},
     "output_type": "execute_result"
    }
   ],
   "source": [
    "next(x)"
   ]
  },
  {
   "cell_type": "code",
   "execution_count": 56,
   "id": "450fa21a-4f5c-4b14-9f47-e344d42ec112",
   "metadata": {},
   "outputs": [
    {
     "data": {
      "text/plain": [
       "2"
      ]
     },
     "execution_count": 56,
     "metadata": {},
     "output_type": "execute_result"
    }
   ],
   "source": [
    "next(x)"
   ]
  },
  {
   "cell_type": "code",
   "execution_count": 57,
   "id": "a71c2caa-3825-42e7-8e25-0ddd2e49b3d9",
   "metadata": {},
   "outputs": [
    {
     "data": {
      "text/plain": [
       "3"
      ]
     },
     "execution_count": 57,
     "metadata": {},
     "output_type": "execute_result"
    }
   ],
   "source": [
    "next(x)"
   ]
  },
  {
   "cell_type": "code",
   "execution_count": 58,
   "id": "0fca7e51-28af-4d49-9691-5dd504412d4f",
   "metadata": {},
   "outputs": [
    {
     "data": {
      "text/plain": [
       "4"
      ]
     },
     "execution_count": 58,
     "metadata": {},
     "output_type": "execute_result"
    }
   ],
   "source": [
    "next(x)"
   ]
  },
  {
   "cell_type": "code",
   "execution_count": 59,
   "id": "d9c89ed3-c22c-40da-ab78-ad2d2fed12a3",
   "metadata": {},
   "outputs": [],
   "source": [
    "# 7. What are the advantages of using generators over regular functions?"
   ]
  },
  {
   "cell_type": "raw",
   "id": "fcade8b5-1f50-4e0c-ba7b-23618f3b3325",
   "metadata": {},
   "source": [
    "Memory Efficiency: By generating data on-the-fly, they reduce memory consumption.\n",
    "Improved Performance: Faster execution and processing without waiting for all data.\n",
    "Simplicity and Readability: Cleaner code with automatic state management.\n",
    "Support for Infinite Sequences: Ideal for modeling sequences without predefined limits"
   ]
  },
  {
   "cell_type": "code",
   "execution_count": 60,
   "id": "98485c00-df47-4b3b-9c4e-cf304cd37ed7",
   "metadata": {},
   "outputs": [],
   "source": [
    "#8 . What is a lambda function in Python and when is it typically used?"
   ]
  },
  {
   "cell_type": "markdown",
   "id": "c0c8d68c-6db3-4958-a9b0-30a75ea40e84",
   "metadata": {},
   "source": [
    "A lambda function in Python is a small, anonymous function defined using the lambda keyword. It is often used for short, simple operations that require a function but don't necessarily warrant a full function definition with def"
   ]
  },
  {
   "cell_type": "code",
   "execution_count": 61,
   "id": "cc293727-3455-4014-ad87-d8389109bbb6",
   "metadata": {},
   "outputs": [
    {
     "data": {
      "text/plain": [
       "5"
      ]
     },
     "execution_count": 61,
     "metadata": {},
     "output_type": "execute_result"
    }
   ],
   "source": [
    "#eg\n",
    "expl = lambda x,y : x+y \n",
    "\n",
    "expl(2,3)"
   ]
  },
  {
   "cell_type": "code",
   "execution_count": 62,
   "id": "3b940e5e-02cd-4317-91ba-828cd189f3ee",
   "metadata": {},
   "outputs": [],
   "source": [
    "#9. Explain the purpose and usage of the `map()` function in Python"
   ]
  },
  {
   "cell_type": "markdown",
   "id": "e8417bd8-1107-4df4-a7f4-d64a1f96ebb7",
   "metadata": {},
   "source": [
    "\n",
    "The map() function in Python is a built-in function used for applying a specified function to each item in an iterable (such as a list, tuple, or set) and returning a map object (an iterator) that yields the results."
   ]
  },
  {
   "cell_type": "code",
   "execution_count": 70,
   "id": "306d0c58-d099-4ab3-923c-bab4ef8a3d61",
   "metadata": {},
   "outputs": [
    {
     "data": {
      "text/plain": [
       "[3, 6, 8]"
      ]
     },
     "execution_count": 70,
     "metadata": {},
     "output_type": "execute_result"
    }
   ],
   "source": [
    "lt = [1,4,6]\n",
    "list(map(lambda x : x+2,lt))"
   ]
  },
  {
   "cell_type": "code",
   "execution_count": 71,
   "id": "a0b52f9b-7d9f-4a5f-a7dd-aa94dc606b53",
   "metadata": {},
   "outputs": [],
   "source": [
    "#10. What is the difference between `map()`, `reduce()`, and `filter()` functions in Python?"
   ]
  },
  {
   "cell_type": "raw",
   "id": "29cedf05-547a-4bbb-9c18-67095e54bb12",
   "metadata": {},
   "source": [
    "Use map() when you want to transform each element in an iterable independently based on a function.\n",
    "Use filter() when you want to extract elements from an iterable that satisfy a certain condition.\n",
    "Use reduce() when you need to compute a single value from a set of values, such as calculating a sum, product, or finding the maximum."
   ]
  },
  {
   "cell_type": "code",
   "execution_count": 72,
   "id": "bf25096c-372c-4e3b-8a62-7c9e98b71b61",
   "metadata": {},
   "outputs": [],
   "source": [
    "#eg map()"
   ]
  },
  {
   "cell_type": "code",
   "execution_count": 101,
   "id": "ff3b590f-6f14-4945-87bb-d261b73a9eac",
   "metadata": {},
   "outputs": [],
   "source": [
    "tup = (2,3,4,5)\n",
    "def multi(x):\n",
    "    return x*x\n",
    "    \n",
    "\n",
    "a = list(map(multi,tup))"
   ]
  },
  {
   "cell_type": "code",
   "execution_count": 102,
   "id": "a4461fe9-8de0-4d6b-b6e4-0841ddda3530",
   "metadata": {},
   "outputs": [
    {
     "data": {
      "text/plain": [
       "[4, 9, 16, 25]"
      ]
     },
     "execution_count": 102,
     "metadata": {},
     "output_type": "execute_result"
    }
   ],
   "source": [
    "a"
   ]
  },
  {
   "cell_type": "code",
   "execution_count": 103,
   "id": "0e5ea144-659a-4c33-8acb-842b76a94dd0",
   "metadata": {},
   "outputs": [],
   "source": [
    "#eg filter"
   ]
  },
  {
   "cell_type": "code",
   "execution_count": 110,
   "id": "7a1f2b0f-0b25-431a-960a-604c8d6317ed",
   "metadata": {},
   "outputs": [
    {
     "data": {
      "text/plain": [
       "[2, 4]"
      ]
     },
     "execution_count": 110,
     "metadata": {},
     "output_type": "execute_result"
    }
   ],
   "source": [
    "ls = [1,2,3,4]\n",
    "list(filter(lambda x :x%2 == 0,ls))"
   ]
  },
  {
   "cell_type": "code",
   "execution_count": 113,
   "id": "1ee4aaec-aceb-467d-8079-c22ffa1d002e",
   "metadata": {},
   "outputs": [
    {
     "data": {
      "text/plain": [
       "37"
      ]
     },
     "execution_count": 113,
     "metadata": {},
     "output_type": "execute_result"
    }
   ],
   "source": [
    "#eg reduce\n",
    "from functools import reduce\n",
    "l = [1,2,34]\n",
    "reduce(lambda x ,y : x+y,l)"
   ]
  },
  {
   "cell_type": "code",
   "execution_count": 114,
   "id": "c67e095d-f91e-4c8f-8047-48e15ab6cfc7",
   "metadata": {},
   "outputs": [
    {
     "data": {
      "text/plain": [
       "113"
      ]
     },
     "execution_count": 114,
     "metadata": {},
     "output_type": "execute_result"
    }
   ],
   "source": [
    "#Using pen & Paper write the internal mechanism for sum operation using  reduce function on this given \n",
    "#list:[47,11,42,13]; \n",
    "lis = [47,11,42,13]\n",
    "reduce(lambda x,y : x+y ,lis)"
   ]
  },
  {
   "cell_type": "markdown",
   "id": "0b53f97e-7196-431c-8a9b-92e7d6c9de0b",
   "metadata": {},
   "source": [
    "PRATICAL QUESTIONS"
   ]
  },
  {
   "cell_type": "code",
   "execution_count": 115,
   "id": "82888aba-a77c-4d4f-9c17-46bcc37e755b",
   "metadata": {},
   "outputs": [],
   "source": [
    "#1. Write a Python function that takes a list of numbers as input and returns the sum of all even numbers in \n",
    "    #the list."
   ]
  },
  {
   "cell_type": "code",
   "execution_count": 119,
   "id": "ea74f1e6-f813-4254-bb64-f517badcbc1f",
   "metadata": {},
   "outputs": [],
   "source": [
    "def sum(x):\n",
    "    sum=0\n",
    "    for i in x:\n",
    "        sum += i\n",
    "    return sum"
   ]
  },
  {
   "cell_type": "code",
   "execution_count": 120,
   "id": "1c896a9b-dd5b-44eb-9600-a1d5d94495c4",
   "metadata": {},
   "outputs": [
    {
     "data": {
      "text/plain": [
       "14"
      ]
     },
     "execution_count": 120,
     "metadata": {},
     "output_type": "execute_result"
    }
   ],
   "source": [
    "a = [1,2,5,6]\n",
    "sum(a)"
   ]
  },
  {
   "cell_type": "code",
   "execution_count": 121,
   "id": "e2aee97a-ab1f-4625-8b35-39d103528ee9",
   "metadata": {},
   "outputs": [],
   "source": [
    "#2. Create a Python function that accepts a string and returns the reverse of that string."
   ]
  },
  {
   "cell_type": "code",
   "execution_count": 123,
   "id": "7151f9d4-27d2-48aa-8894-b42bb8583841",
   "metadata": {},
   "outputs": [
    {
     "data": {
      "text/plain": [
       "'olleh'"
      ]
     },
     "execution_count": 123,
     "metadata": {},
     "output_type": "execute_result"
    }
   ],
   "source": [
    "def rvrs(x):\n",
    "    return x[::-1]\n",
    "\n",
    "st = \"hello\"\n",
    "rvrs(st)"
   ]
  },
  {
   "cell_type": "code",
   "execution_count": 124,
   "id": "1929e05b-75db-4654-a1dd-e93e5e441198",
   "metadata": {},
   "outputs": [],
   "source": [
    "#3. Implement a Python function that takes a list of integers and returns a new list containing the squares of \n",
    "    #each number."
   ]
  },
  {
   "cell_type": "code",
   "execution_count": 132,
   "id": "3a12b040-7d4e-48ce-b410-a1964d33cd6d",
   "metadata": {},
   "outputs": [],
   "source": [
    "def sqr(x):\n",
    "    a = []\n",
    "    for i in x:\n",
    "        a.append(i**2)\n",
    "    return a\n",
    "        "
   ]
  },
  {
   "cell_type": "code",
   "execution_count": 133,
   "id": "024b58ff-cfd9-4fb7-93db-42d206b937e8",
   "metadata": {},
   "outputs": [
    {
     "data": {
      "text/plain": [
       "[4, 9, 16, 25]"
      ]
     },
     "execution_count": 133,
     "metadata": {},
     "output_type": "execute_result"
    }
   ],
   "source": [
    "lst = [2,3,4,5]\n",
    "sqr(lst)"
   ]
  },
  {
   "cell_type": "code",
   "execution_count": 134,
   "id": "8e46e4e4-84eb-4e35-a1c1-a2c0d65023fe",
   "metadata": {},
   "outputs": [],
   "source": [
    "#4. Write a Python function that checks if a given number is prime or not from 1 to 200."
   ]
  },
  {
   "cell_type": "code",
   "execution_count": 161,
   "id": "804a768f-9638-4baa-b6c7-967f31538836",
   "metadata": {},
   "outputs": [],
   "source": [
    "def prime(x):\n",
    "    if x > 1:\n",
    "        for i in range (2,(x//2)+1):\n",
    "            if x%i == 0:\n",
    "                print(\"Not prime\")\n",
    "                break\n",
    "        else:\n",
    "             print(f\"it is {x} prime\")\n",
    "    else:\n",
    "        print(\"not prime\")\n",
    "         \n",
    "    \n",
    "    "
   ]
  },
  {
   "cell_type": "code",
   "execution_count": 156,
   "id": "cc2f2ab2-265f-4ccb-91b1-f7cf12c20129",
   "metadata": {},
   "outputs": [
    {
     "name": "stdout",
     "output_type": "stream",
     "text": [
      "Not prime\n"
     ]
    }
   ],
   "source": [
    "prime(56)"
   ]
  },
  {
   "cell_type": "code",
   "execution_count": 204,
   "id": "f63c96a0-1f5d-4f50-b67a-19d9125aeb6c",
   "metadata": {},
   "outputs": [],
   "source": [
    "#5. Create a Python that generates the Fibonacci sequence up to a specified number of terms."
   ]
  },
  {
   "cell_type": "code",
   "execution_count": 194,
   "id": "73de185a-dcd8-431b-aece-7c0bb686675c",
   "metadata": {},
   "outputs": [
    {
     "name": "stdout",
     "output_type": "stream",
     "text": [
      "0 1 1 2 3 "
     ]
    }
   ],
   "source": [
    "def fibi(x):\n",
    "    a = 0\n",
    "    b = 1\n",
    "    for i in range(x):\n",
    "        print(a, end = \" \")\n",
    "        a,b = b,a+b\n",
    "  \n",
    "\n",
    "fibi(5) "
   ]
  },
  {
   "cell_type": "code",
   "execution_count": 196,
   "id": "c2566df2-bfc5-4015-9548-822b0c74cf3d",
   "metadata": {},
   "outputs": [],
   "source": [
    "#6. Write a generator function in Python that yields the powers of 2 up to a given exponent."
   ]
  },
  {
   "cell_type": "code",
   "execution_count": 202,
   "id": "c02f4127-4058-4015-878c-62212776ccd7",
   "metadata": {},
   "outputs": [],
   "source": [
    "def power(x):\n",
    "    yield x**2\n",
    "    \n",
    "    "
   ]
  },
  {
   "cell_type": "code",
   "execution_count": 203,
   "id": "fb25c77f-5141-4cb3-8396-1237042e5923",
   "metadata": {},
   "outputs": [
    {
     "data": {
      "text/plain": [
       "9"
      ]
     },
     "execution_count": 203,
     "metadata": {},
     "output_type": "execute_result"
    }
   ],
   "source": [
    "x = 3\n",
    "a = power(x)\n",
    "next(a)"
   ]
  },
  {
   "cell_type": "code",
   "execution_count": 205,
   "id": "ae9a6a94-bff9-43a0-b937-3ba95c57d6bd",
   "metadata": {},
   "outputs": [],
   "source": [
    "#7 Implement a generator function that reads a file line by line and yields each line as a string."
   ]
  },
  {
   "cell_type": "code",
   "execution_count": 214,
   "id": "bda8d7cd-475c-41ee-adc2-de82dc22d977",
   "metadata": {},
   "outputs": [
    {
     "data": {
      "text/plain": [
       "'grapes'"
      ]
     },
     "execution_count": 214,
     "metadata": {},
     "output_type": "execute_result"
    }
   ],
   "source": [
    "def file(x):\n",
    "    for i in x:\n",
    "        yield i\n",
    "\n",
    "\n",
    "File = [\"grapes\",\"orange\",\"mango\",\"pineapple\"]\n",
    "g = file(File)\n",
    "next(g)\n"
   ]
  },
  {
   "cell_type": "code",
   "execution_count": 215,
   "id": "e1e12820-e8e4-4fcc-b872-502de7623a3f",
   "metadata": {},
   "outputs": [
    {
     "data": {
      "text/plain": [
       "'orange'"
      ]
     },
     "execution_count": 215,
     "metadata": {},
     "output_type": "execute_result"
    }
   ],
   "source": [
    "next(g)"
   ]
  },
  {
   "cell_type": "code",
   "execution_count": 216,
   "id": "414d2ab0-ad59-4e5d-8e1c-2378d79f37f5",
   "metadata": {},
   "outputs": [
    {
     "data": {
      "text/plain": [
       "'mango'"
      ]
     },
     "execution_count": 216,
     "metadata": {},
     "output_type": "execute_result"
    }
   ],
   "source": [
    "next(g)"
   ]
  },
  {
   "cell_type": "code",
   "execution_count": 217,
   "id": "47f58dae-f824-4366-ab72-0e5f6c1265b4",
   "metadata": {},
   "outputs": [
    {
     "data": {
      "text/plain": [
       "'pineapple'"
      ]
     },
     "execution_count": 217,
     "metadata": {},
     "output_type": "execute_result"
    }
   ],
   "source": [
    "next(g)"
   ]
  },
  {
   "cell_type": "code",
   "execution_count": 218,
   "id": "f83ce409-eb4f-4eaa-90f2-a25f19990444",
   "metadata": {},
   "outputs": [],
   "source": [
    "#8. Use a lambda function in Python to sort a list of tuples based on the second element of each tuple."
   ]
  },
  {
   "cell_type": "code",
   "execution_count": 239,
   "id": "d6a297b6-2c2a-42e3-aa86-7b4543580975",
   "metadata": {},
   "outputs": [
    {
     "data": {
      "text/plain": [
       "[(2, 1), (1, 2), (2, 3)]"
      ]
     },
     "execution_count": 239,
     "metadata": {},
     "output_type": "execute_result"
    }
   ],
   "source": [
    "\n",
    "t = [(1,2),(2,3),(2,1)]\n",
    "\n",
    "sort = sorted(t,key = lambda x : x[1])\n",
    "\n",
    "sort"
   ]
  },
  {
   "cell_type": "code",
   "execution_count": 242,
   "id": "41000a0f-1e56-40a6-b74f-ac0ead34f1bd",
   "metadata": {},
   "outputs": [],
   "source": [
    "#9. Write a Python program that uses `map()` to convert a list of temperatures from Celsius to Fahrenheit."
   ]
  },
  {
   "cell_type": "code",
   "execution_count": 243,
   "id": "4106b663-c977-4e85-b4f8-f612c5e190b0",
   "metadata": {},
   "outputs": [
    {
     "data": {
      "text/plain": [
       "[71.6, 91.4, 113.0, 152.60000000000002]"
      ]
     },
     "execution_count": 243,
     "metadata": {},
     "output_type": "execute_result"
    }
   ],
   "source": [
    "celsius = [22,33,45,67]\n",
    "\n",
    "Fahrenheit = list(map(lambda x : (9/5)*x + 32,celsius))\n",
    "Fahrenheit"
   ]
  },
  {
   "cell_type": "code",
   "execution_count": 244,
   "id": "cadda10d-9855-44d7-9a1a-af6f5ec0574d",
   "metadata": {},
   "outputs": [],
   "source": [
    "#10.Create a Python program that uses `filter()` to remove all the vowels from a given string."
   ]
  },
  {
   "cell_type": "code",
   "execution_count": 253,
   "id": "c0abd133-7fb0-40d4-83fa-fa4781075f2a",
   "metadata": {},
   "outputs": [
    {
     "data": {
      "text/plain": [
       "['p', 'w', 's', 'k', 'l', 'l', 's']"
      ]
     },
     "execution_count": 253,
     "metadata": {},
     "output_type": "execute_result"
    }
   ],
   "source": [
    "st=\"pwskills\"\n",
    "\n",
    "list(filter(lambda x : x not in  [\"a\",\"e\",\"i\",\"o\",\"u\"],st))"
   ]
  },
  {
   "cell_type": "code",
   "execution_count": 254,
   "id": "e28c825e-3119-40f1-8356-7906341162fa",
   "metadata": {},
   "outputs": [],
   "source": [
    "#11. Imagine an accounting routine used in a book shop."
   ]
  },
  {
   "cell_type": "code",
   "execution_count": 261,
   "id": "6346be5b-6249-492b-b9e8-75f17c5f974d",
   "metadata": {},
   "outputs": [],
   "source": [
    "orders = [\n",
    "        [34587,[\"Learning python\",\"Mark Lutz\"],4,40.95],\n",
    "        [98762,[\"Learning programming\",\"Mark Lutz\"],5,56.80],\n",
    "        [77226,[\"Head first Python\",\"Paul Barry\"],3,32.95],\n",
    "        [88112,[\"Einfurung\",\"Berd kelvin\"],3,24.99]\n",
    "        ]\n",
    "def order_list(order):\n",
    "    result=[]\n",
    "    for order in orders:\n",
    "        od_nm = order[0]\n",
    "        od_bk = order[1]\n",
    "        od_qty = order[2]\n",
    "        od_prc = order[3]\n",
    "        total = od_qty * od_prc\n",
    "        if total < 100:\n",
    "            total += 10\n",
    "        result.append((od_nm,od_bk,total))\n",
    "    return result\n",
    "        \n",
    "\n",
    "    \n",
    "        "
   ]
  },
  {
   "cell_type": "code",
   "execution_count": 264,
   "id": "dc3d483e-ef0e-4356-9fa3-bc1e93adee11",
   "metadata": {},
   "outputs": [
    {
     "data": {
      "text/plain": [
       "[(34587, ['Learning python', 'Mark Lutz'], 163.8),\n",
       " (98762, ['Learning programming', 'Mark Lutz'], 284.0),\n",
       " (77226, ['Head first Python', 'Paul Barry'], 108.85000000000001),\n",
       " (88112, ['Einfurung', 'Berd kelvin'], 84.97)]"
      ]
     },
     "execution_count": 264,
     "metadata": {},
     "output_type": "execute_result"
    }
   ],
   "source": [
    "order_list(orders)"
   ]
  },
  {
   "cell_type": "code",
   "execution_count": null,
   "id": "2b5bc673-789c-4360-a708-ea1dc2b71961",
   "metadata": {},
   "outputs": [],
   "source": []
  }
 ],
 "metadata": {
  "kernelspec": {
   "display_name": "Python 3 (ipykernel)",
   "language": "python",
   "name": "python3"
  },
  "language_info": {
   "codemirror_mode": {
    "name": "ipython",
    "version": 3
   },
   "file_extension": ".py",
   "mimetype": "text/x-python",
   "name": "python",
   "nbconvert_exporter": "python",
   "pygments_lexer": "ipython3",
   "version": "3.11.2"
  }
 },
 "nbformat": 4,
 "nbformat_minor": 5
}
